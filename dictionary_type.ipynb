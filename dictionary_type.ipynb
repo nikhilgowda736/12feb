{
  "cells": [
    {
      "cell_type": "markdown",
      "metadata": {
        "id": "view-in-github",
        "colab_type": "text"
      },
      "source": [
        "<a href=\"https://colab.research.google.com/github/nikhilgowda736/12feb/blob/main/dictionary_type.ipynb\" target=\"_parent\"><img src=\"https://colab.research.google.com/assets/colab-badge.svg\" alt=\"Open In Colab\"/></a>"
      ]
    },
    {
      "cell_type": "code",
      "execution_count": 1,
      "id": "4519cf2b",
      "metadata": {
        "id": "4519cf2b",
        "outputId": "5058cef1-3b08-4362-96f4-4fd5696c4ca1",
        "colab": {
          "base_uri": "https://localhost:8080/"
        }
      },
      "outputs": [
        {
          "output_type": "execute_result",
          "data": {
            "text/plain": [
              "dict"
            ]
          },
          "metadata": {},
          "execution_count": 1
        }
      ],
      "source": [
        "d1 = {}\n",
        "type(d1)"
      ]
    },
    {
      "cell_type": "code",
      "execution_count": 2,
      "id": "b920051b",
      "metadata": {
        "id": "b920051b",
        "outputId": "2d5d24b5-63db-49d0-f526-fb87fabb75f2",
        "colab": {
          "base_uri": "https://localhost:8080/"
        }
      },
      "outputs": [
        {
          "output_type": "execute_result",
          "data": {
            "text/plain": [
              "{'sid': 1, 'name': 'Hugh', 'course': 'Music', 'marks': 85}"
            ]
          },
          "metadata": {},
          "execution_count": 2
        }
      ],
      "source": [
        "d1 = {'sid':1,\n",
        "     'name':'Hugh',\n",
        "     'course':'Music',\n",
        "     'marks': 85}\n",
        "d1"
      ]
    },
    {
      "cell_type": "code",
      "execution_count": 3,
      "id": "02a7ee4a",
      "metadata": {
        "id": "02a7ee4a"
      },
      "outputs": [],
      "source": [
        "d2 = {  1:'One',\n",
        "        'Address':'2nd Main rd',\n",
        "        (0,0):'Origin'      \n",
        "     }"
      ]
    },
    {
      "cell_type": "code",
      "execution_count": 4,
      "id": "0a30f65c",
      "metadata": {
        "id": "0a30f65c",
        "outputId": "f671fce0-9d16-4ac7-cc1c-59faf298d042",
        "colab": {
          "base_uri": "https://localhost:8080/"
        }
      },
      "outputs": [
        {
          "output_type": "execute_result",
          "data": {
            "text/plain": [
              "{1: 'One', 'Address': '2nd Main rd', (0, 0): 'Origin'}"
            ]
          },
          "metadata": {},
          "execution_count": 4
        }
      ],
      "source": [
        "d2"
      ]
    },
    {
      "cell_type": "code",
      "execution_count": 5,
      "id": "3fe13df8",
      "metadata": {
        "id": "3fe13df8"
      },
      "outputs": [],
      "source": [
        "k = [1,2,3,4,5]\n",
        "v = ('One','Two','Three','Four','Five')\n",
        "x = (11,22,33,44,55)"
      ]
    },
    {
      "cell_type": "code",
      "execution_count": 6,
      "id": "2eab6cdd",
      "metadata": {
        "id": "2eab6cdd",
        "outputId": "f292400f-6db1-4426-f829-77a1e3dea647",
        "colab": {
          "base_uri": "https://localhost:8080/"
        }
      },
      "outputs": [
        {
          "output_type": "execute_result",
          "data": {
            "text/plain": [
              "[(1, 'One', 11),\n",
              " (2, 'Two', 22),\n",
              " (3, 'Three', 33),\n",
              " (4, 'Four', 44),\n",
              " (5, 'Five', 55)]"
            ]
          },
          "metadata": {},
          "execution_count": 6
        }
      ],
      "source": [
        "list(zip(k,v,x))"
      ]
    },
    {
      "cell_type": "code",
      "execution_count": 7,
      "id": "1a5ac7bb",
      "metadata": {
        "id": "1a5ac7bb",
        "outputId": "7704c73c-ba23-4fff-ecbc-2288a20dd1f7",
        "colab": {
          "base_uri": "https://localhost:8080/"
        }
      },
      "outputs": [
        {
          "output_type": "execute_result",
          "data": {
            "text/plain": [
              "<zip at 0x7f552b552340>"
            ]
          },
          "metadata": {},
          "execution_count": 7
        }
      ],
      "source": [
        "zip(k,v)"
      ]
    },
    {
      "cell_type": "code",
      "execution_count": 8,
      "id": "639ac6bf",
      "metadata": {
        "id": "639ac6bf",
        "outputId": "c15a0669-381e-45b1-bf7d-ef046271cec6",
        "colab": {
          "base_uri": "https://localhost:8080/"
        }
      },
      "outputs": [
        {
          "output_type": "execute_result",
          "data": {
            "text/plain": [
              "{1: 'One', 2: 'Two', 3: 'Three', 4: 'Four', 5: 'Five'}"
            ]
          },
          "metadata": {},
          "execution_count": 8
        }
      ],
      "source": [
        "d3 = dict(zip(k,v))\n",
        "d3"
      ]
    },
    {
      "cell_type": "code",
      "execution_count": 9,
      "id": "a7a69ca5",
      "metadata": {
        "id": "a7a69ca5",
        "outputId": "28db6f02-529b-445a-b4ec-1a47e826d16c",
        "colab": {
          "base_uri": "https://localhost:8080/"
        }
      },
      "outputs": [
        {
          "output_type": "execute_result",
          "data": {
            "text/plain": [
              "[1, 2, 3, 4, 5]"
            ]
          },
          "metadata": {},
          "execution_count": 9
        }
      ],
      "source": [
        "k"
      ]
    },
    {
      "cell_type": "code",
      "execution_count": 10,
      "id": "83c45a5f",
      "metadata": {
        "id": "83c45a5f",
        "outputId": "5b762340-b476-4128-f34c-882e1db1ac0a",
        "colab": {
          "base_uri": "https://localhost:8080/"
        }
      },
      "outputs": [
        {
          "output_type": "execute_result",
          "data": {
            "text/plain": [
              "{1: None, 2: None, 3: None, 4: None, 5: None}"
            ]
          },
          "metadata": {},
          "execution_count": 10
        }
      ],
      "source": [
        "d4 = dict.fromkeys(k)\n",
        "d4"
      ]
    },
    {
      "cell_type": "code",
      "execution_count": 11,
      "id": "0210a1c9",
      "metadata": {
        "id": "0210a1c9",
        "outputId": "70877e89-e451-49bd-8f7f-3465b00cf8ac",
        "colab": {
          "base_uri": "https://localhost:8080/"
        }
      },
      "outputs": [
        {
          "output_type": "execute_result",
          "data": {
            "text/plain": [
              "{1: 'xyz', 2: 'xyz', 3: 'xyz', 4: 'xyz', 5: 'xyz'}"
            ]
          },
          "metadata": {},
          "execution_count": 11
        }
      ],
      "source": [
        "d5 = d4 = dict.fromkeys(k,'xyz')\n",
        "d5"
      ]
    },
    {
      "cell_type": "code",
      "execution_count": 12,
      "id": "3ee3c102",
      "metadata": {
        "id": "3ee3c102",
        "outputId": "6ebb7722-665f-4129-87f2-64ec980d0b94",
        "colab": {
          "base_uri": "https://localhost:8080/"
        }
      },
      "outputs": [
        {
          "output_type": "execute_result",
          "data": {
            "text/plain": [
              "['__class__',\n",
              " '__class_getitem__',\n",
              " '__contains__',\n",
              " '__delattr__',\n",
              " '__delitem__',\n",
              " '__dir__',\n",
              " '__doc__',\n",
              " '__eq__',\n",
              " '__format__',\n",
              " '__ge__',\n",
              " '__getattribute__',\n",
              " '__getitem__',\n",
              " '__gt__',\n",
              " '__hash__',\n",
              " '__init__',\n",
              " '__init_subclass__',\n",
              " '__ior__',\n",
              " '__iter__',\n",
              " '__le__',\n",
              " '__len__',\n",
              " '__lt__',\n",
              " '__ne__',\n",
              " '__new__',\n",
              " '__or__',\n",
              " '__reduce__',\n",
              " '__reduce_ex__',\n",
              " '__repr__',\n",
              " '__reversed__',\n",
              " '__ror__',\n",
              " '__setattr__',\n",
              " '__setitem__',\n",
              " '__sizeof__',\n",
              " '__str__',\n",
              " '__subclasshook__',\n",
              " 'clear',\n",
              " 'copy',\n",
              " 'fromkeys',\n",
              " 'get',\n",
              " 'items',\n",
              " 'keys',\n",
              " 'pop',\n",
              " 'popitem',\n",
              " 'setdefault',\n",
              " 'update',\n",
              " 'values']"
            ]
          },
          "metadata": {},
          "execution_count": 12
        }
      ],
      "source": [
        "dir(dict)"
      ]
    },
    {
      "cell_type": "code",
      "execution_count": 13,
      "id": "2ece116c",
      "metadata": {
        "id": "2ece116c",
        "outputId": "39e49bc6-5fb9-4216-f3e2-83fc12c22e46",
        "colab": {
          "base_uri": "https://localhost:8080/"
        }
      },
      "outputs": [
        {
          "output_type": "execute_result",
          "data": {
            "text/plain": [
              "{'Kerala': 'Trivandrum',\n",
              " 'MP': 'Bhopal',\n",
              " 'TN': 'Chennai',\n",
              " 'Karnataka': 'Bengaluru',\n",
              " 'MH': 'Mumbai'}"
            ]
          },
          "metadata": {},
          "execution_count": 13
        }
      ],
      "source": [
        "dstates = {'Kerala':'Trivandrum',\n",
        "          'MP':'Bhopal',\n",
        "          'TN':'Chennai',\n",
        "          'Karnataka':'Bengaluru',\n",
        "          'MH':'Mumbai'}\n",
        "dstates"
      ]
    },
    {
      "cell_type": "code",
      "execution_count": 14,
      "id": "d1bdc93e",
      "metadata": {
        "id": "d1bdc93e",
        "outputId": "9370d6b7-f567-49b8-9bff-0edd120c87a1",
        "colab": {
          "base_uri": "https://localhost:8080/",
          "height": 35
        }
      },
      "outputs": [
        {
          "output_type": "execute_result",
          "data": {
            "text/plain": [
              "'Chennai'"
            ],
            "application/vnd.google.colaboratory.intrinsic+json": {
              "type": "string"
            }
          },
          "metadata": {},
          "execution_count": 14
        }
      ],
      "source": [
        "dstates['TN']"
      ]
    },
    {
      "cell_type": "code",
      "execution_count": 15,
      "id": "a2549873",
      "metadata": {
        "id": "a2549873",
        "outputId": "687e84b2-e625-40f8-e372-f9a199da4c09",
        "colab": {
          "base_uri": "https://localhost:8080/",
          "height": 35
        }
      },
      "outputs": [
        {
          "output_type": "execute_result",
          "data": {
            "text/plain": [
              "'Bhopal'"
            ],
            "application/vnd.google.colaboratory.intrinsic+json": {
              "type": "string"
            }
          },
          "metadata": {},
          "execution_count": 15
        }
      ],
      "source": [
        "dstates['MP']"
      ]
    },
    {
      "cell_type": "code",
      "execution_count": 16,
      "id": "c8c5d0bd",
      "metadata": {
        "id": "c8c5d0bd",
        "outputId": "18d45cfb-a24b-48d4-d25f-eb911bc573e3",
        "colab": {
          "base_uri": "https://localhost:8080/"
        }
      },
      "outputs": [
        {
          "output_type": "execute_result",
          "data": {
            "text/plain": [
              "('Chennai', 'I dont know')"
            ]
          },
          "metadata": {},
          "execution_count": 16
        }
      ],
      "source": [
        "dstates.get('TN','I dont know'), dstates.get('AP','I dont know')"
      ]
    },
    {
      "cell_type": "code",
      "execution_count": 17,
      "id": "beb627f1",
      "metadata": {
        "id": "beb627f1",
        "outputId": "616cf5de-b815-46cb-a1dd-1b243e57faed",
        "colab": {
          "base_uri": "https://localhost:8080/"
        }
      },
      "outputs": [
        {
          "output_type": "execute_result",
          "data": {
            "text/plain": [
              "dict_items([('Kerala', 'Trivandrum'), ('MP', 'Bhopal'), ('TN', 'Chennai'), ('Karnataka', 'Bengaluru'), ('MH', 'Mumbai')])"
            ]
          },
          "metadata": {},
          "execution_count": 17
        }
      ],
      "source": [
        "dstates.items()"
      ]
    },
    {
      "cell_type": "code",
      "execution_count": 18,
      "id": "59419513",
      "metadata": {
        "id": "59419513",
        "outputId": "c87f05ff-a78e-46c6-b851-81c85c0369a0",
        "colab": {
          "base_uri": "https://localhost:8080/"
        }
      },
      "outputs": [
        {
          "output_type": "execute_result",
          "data": {
            "text/plain": [
              "dict_keys(['Kerala', 'MP', 'TN', 'Karnataka', 'MH'])"
            ]
          },
          "metadata": {},
          "execution_count": 18
        }
      ],
      "source": [
        "dstates.keys()"
      ]
    },
    {
      "cell_type": "code",
      "execution_count": 19,
      "id": "0f29b71d",
      "metadata": {
        "id": "0f29b71d",
        "outputId": "5d88d05e-46da-4a2f-e493-f7cb62227ec5",
        "colab": {
          "base_uri": "https://localhost:8080/"
        }
      },
      "outputs": [
        {
          "output_type": "execute_result",
          "data": {
            "text/plain": [
              "dict_values(['Trivandrum', 'Bhopal', 'Chennai', 'Bengaluru', 'Mumbai'])"
            ]
          },
          "metadata": {},
          "execution_count": 19
        }
      ],
      "source": [
        "dstates.values()"
      ]
    },
    {
      "cell_type": "code",
      "execution_count": 20,
      "id": "f63cfb20",
      "metadata": {
        "id": "f63cfb20",
        "outputId": "11b6bf02-3a7f-48a5-ce62-b712594284df",
        "colab": {
          "base_uri": "https://localhost:8080/"
        }
      },
      "outputs": [
        {
          "output_type": "execute_result",
          "data": {
            "text/plain": [
              "{1: 'One', 2: 'Two', 3: 'Three', 4: 'Four', 5: 'Five'}"
            ]
          },
          "metadata": {},
          "execution_count": 20
        }
      ],
      "source": [
        "d3"
      ]
    },
    {
      "cell_type": "code",
      "execution_count": 21,
      "id": "8da9c97c",
      "metadata": {
        "id": "8da9c97c",
        "outputId": "c9997d83-2cc1-4181-e568-3816d247d71c",
        "colab": {
          "base_uri": "https://localhost:8080/",
          "height": 35
        }
      },
      "outputs": [
        {
          "output_type": "execute_result",
          "data": {
            "text/plain": [
              "'Four'"
            ],
            "application/vnd.google.colaboratory.intrinsic+json": {
              "type": "string"
            }
          },
          "metadata": {},
          "execution_count": 21
        }
      ],
      "source": [
        "d3.pop(4)"
      ]
    },
    {
      "cell_type": "code",
      "execution_count": 22,
      "id": "2e2b184d",
      "metadata": {
        "id": "2e2b184d",
        "outputId": "c9818faa-e14c-4f1a-a351-9764fcfae0ba",
        "colab": {
          "base_uri": "https://localhost:8080/"
        }
      },
      "outputs": [
        {
          "output_type": "execute_result",
          "data": {
            "text/plain": [
              "{1: 'One', 2: 'Two', 3: 'Three', 5: 'Five'}"
            ]
          },
          "metadata": {},
          "execution_count": 22
        }
      ],
      "source": [
        "d3"
      ]
    },
    {
      "cell_type": "code",
      "execution_count": 23,
      "id": "36459bbc",
      "metadata": {
        "id": "36459bbc",
        "outputId": "015e6894-11f7-42a6-c656-f55ede859757",
        "colab": {
          "base_uri": "https://localhost:8080/"
        }
      },
      "outputs": [
        {
          "output_type": "execute_result",
          "data": {
            "text/plain": [
              "(5, 'Five')"
            ]
          },
          "metadata": {},
          "execution_count": 23
        }
      ],
      "source": [
        "d3.popitem()"
      ]
    },
    {
      "cell_type": "code",
      "execution_count": 24,
      "id": "a7f83c62",
      "metadata": {
        "id": "a7f83c62",
        "outputId": "e06fd16f-71db-4153-a45c-1e11c002712a",
        "colab": {
          "base_uri": "https://localhost:8080/"
        }
      },
      "outputs": [
        {
          "output_type": "execute_result",
          "data": {
            "text/plain": [
              "{1: 'One', 2: 'Two', 3: 'Three'}"
            ]
          },
          "metadata": {},
          "execution_count": 24
        }
      ],
      "source": [
        "d3"
      ]
    },
    {
      "cell_type": "code",
      "execution_count": 25,
      "id": "43375fa2",
      "metadata": {
        "id": "43375fa2"
      },
      "outputs": [],
      "source": [
        "d3.clear()"
      ]
    },
    {
      "cell_type": "code",
      "execution_count": 26,
      "id": "13383400",
      "metadata": {
        "id": "13383400",
        "outputId": "1a80797d-6920-4217-9960-9c691d76b77f",
        "colab": {
          "base_uri": "https://localhost:8080/"
        }
      },
      "outputs": [
        {
          "output_type": "execute_result",
          "data": {
            "text/plain": [
              "{}"
            ]
          },
          "metadata": {},
          "execution_count": 26
        }
      ],
      "source": [
        "d3"
      ]
    },
    {
      "cell_type": "code",
      "execution_count": 27,
      "id": "374130d0",
      "metadata": {
        "id": "374130d0",
        "outputId": "096f1ca4-8fd6-4a0f-f385-7c0ac4d23c77",
        "colab": {
          "base_uri": "https://localhost:8080/"
        }
      },
      "outputs": [
        {
          "output_type": "execute_result",
          "data": {
            "text/plain": [
              "{10: 'One', 20: 'Two'}"
            ]
          },
          "metadata": {},
          "execution_count": 27
        }
      ],
      "source": [
        "d5 = {10:'One',20:'Two'}\n",
        "d5"
      ]
    },
    {
      "cell_type": "code",
      "execution_count": 28,
      "id": "20e12458",
      "metadata": {
        "id": "20e12458",
        "outputId": "55b5831a-304d-49aa-8829-ca8ca3f7c5de",
        "colab": {
          "base_uri": "https://localhost:8080/",
          "height": 35
        }
      },
      "outputs": [
        {
          "output_type": "execute_result",
          "data": {
            "text/plain": [
              "'One'"
            ],
            "application/vnd.google.colaboratory.intrinsic+json": {
              "type": "string"
            }
          },
          "metadata": {},
          "execution_count": 28
        }
      ],
      "source": [
        "d5.setdefault(10)"
      ]
    },
    {
      "cell_type": "code",
      "execution_count": 29,
      "id": "9a9be9af",
      "metadata": {
        "id": "9a9be9af"
      },
      "outputs": [],
      "source": [
        "d5.setdefault(30)"
      ]
    },
    {
      "cell_type": "code",
      "execution_count": 30,
      "id": "6cfeec78",
      "metadata": {
        "id": "6cfeec78",
        "outputId": "69294d60-3ca9-4643-de37-706042560ca7",
        "colab": {
          "base_uri": "https://localhost:8080/"
        }
      },
      "outputs": [
        {
          "output_type": "execute_result",
          "data": {
            "text/plain": [
              "{10: 'One', 20: 'Two', 30: None}"
            ]
          },
          "metadata": {},
          "execution_count": 30
        }
      ],
      "source": [
        "d5"
      ]
    },
    {
      "cell_type": "code",
      "execution_count": 31,
      "id": "0520e974",
      "metadata": {
        "id": "0520e974",
        "outputId": "1063ba9c-961f-4f38-a98a-0912d48cc952",
        "colab": {
          "base_uri": "https://localhost:8080/",
          "height": 35
        }
      },
      "outputs": [
        {
          "output_type": "execute_result",
          "data": {
            "text/plain": [
              "'Forty'"
            ],
            "application/vnd.google.colaboratory.intrinsic+json": {
              "type": "string"
            }
          },
          "metadata": {},
          "execution_count": 31
        }
      ],
      "source": [
        "d5.setdefault(40,'Forty')"
      ]
    },
    {
      "cell_type": "code",
      "execution_count": 32,
      "id": "07226bfe",
      "metadata": {
        "id": "07226bfe",
        "outputId": "57420ffb-6c07-4f08-cf67-48e496227819",
        "colab": {
          "base_uri": "https://localhost:8080/"
        }
      },
      "outputs": [
        {
          "output_type": "execute_result",
          "data": {
            "text/plain": [
              "{10: 'One', 20: 'Two', 30: None, 40: 'Forty'}"
            ]
          },
          "metadata": {},
          "execution_count": 32
        }
      ],
      "source": [
        "d5"
      ]
    },
    {
      "cell_type": "code",
      "execution_count": 33,
      "id": "3422c056",
      "metadata": {
        "id": "3422c056"
      },
      "outputs": [],
      "source": [
        "dstates['UP'] = 'Lucknow'"
      ]
    },
    {
      "cell_type": "code",
      "execution_count": 34,
      "id": "3a53cc32",
      "metadata": {
        "id": "3a53cc32",
        "outputId": "2d123068-9669-41a1-f6f2-5699121f2b80",
        "colab": {
          "base_uri": "https://localhost:8080/"
        }
      },
      "outputs": [
        {
          "output_type": "execute_result",
          "data": {
            "text/plain": [
              "{'Kerala': 'Trivandrum',\n",
              " 'MP': 'Bhopal',\n",
              " 'TN': 'Chennai',\n",
              " 'Karnataka': 'Bengaluru',\n",
              " 'MH': 'Mumbai',\n",
              " 'UP': 'Lucknow'}"
            ]
          },
          "metadata": {},
          "execution_count": 34
        }
      ],
      "source": [
        "dstates"
      ]
    },
    {
      "cell_type": "code",
      "execution_count": 35,
      "id": "6513d599",
      "metadata": {
        "id": "6513d599",
        "outputId": "4514ead4-ec28-4b5a-d75a-50f7224c3092",
        "colab": {
          "base_uri": "https://localhost:8080/",
          "height": 130
        }
      },
      "outputs": [
        {
          "output_type": "error",
          "ename": "SyntaxError",
          "evalue": "ignored",
          "traceback": [
            "\u001b[0;36m  File \u001b[0;32m\"<ipython-input-35-5601843fb615>\"\u001b[0;36m, line \u001b[0;32m2\u001b[0m\n\u001b[0;31m    d1{}\u001b[0m\n\u001b[0m      ^\u001b[0m\n\u001b[0;31mSyntaxError\u001b[0m\u001b[0;31m:\u001b[0m invalid syntax\n"
          ]
        }
      ],
      "source": [
        "d1 = {1:'Mango', 2:'Kiwi',3:'Grapes'}\n",
        "d1{}"
      ]
    },
    {
      "cell_type": "code",
      "execution_count": null,
      "id": "6734aa3c",
      "metadata": {
        "id": "6734aa3c"
      },
      "outputs": [],
      "source": [
        "d2 = {2:'Pineapple', 3:'Apple'}"
      ]
    },
    {
      "cell_type": "code",
      "execution_count": null,
      "id": "2bdb1f4e",
      "metadata": {
        "id": "2bdb1f4e"
      },
      "outputs": [],
      "source": [
        "d1.update(d2)"
      ]
    },
    {
      "cell_type": "code",
      "execution_count": null,
      "id": "3376480a",
      "metadata": {
        "id": "3376480a"
      },
      "outputs": [],
      "source": [
        "d1"
      ]
    },
    {
      "cell_type": "code",
      "execution_count": null,
      "id": "c511b7d3",
      "metadata": {
        "id": "c511b7d3"
      },
      "outputs": [],
      "source": [
        "s1 = {1,2,3,4}\n",
        "s1"
      ]
    },
    {
      "cell_type": "code",
      "execution_count": null,
      "id": "f14b3930",
      "metadata": {
        "id": "f14b3930"
      },
      "outputs": [],
      "source": [
        "type(s1)"
      ]
    },
    {
      "cell_type": "code",
      "execution_count": null,
      "id": "bbc0e7c2",
      "metadata": {
        "id": "bbc0e7c2"
      },
      "outputs": [],
      "source": [
        "s2 = {1,1,2,3,3,4}\n",
        "s2"
      ]
    },
    {
      "cell_type": "code",
      "execution_count": null,
      "id": "52c159f7",
      "metadata": {
        "id": "52c159f7"
      },
      "outputs": [],
      "source": [
        "lst = [1,1,2,3,3,4]\n",
        "s3 = set(lst)"
      ]
    },
    {
      "cell_type": "code",
      "execution_count": null,
      "id": "eb7a0f7e",
      "metadata": {
        "id": "eb7a0f7e"
      },
      "outputs": [],
      "source": [
        "s3"
      ]
    },
    {
      "cell_type": "markdown",
      "id": "74fd22b6",
      "metadata": {
        "id": "74fd22b6"
      },
      "source": [
        "## Intersection"
      ]
    },
    {
      "cell_type": "code",
      "execution_count": null,
      "id": "12618610",
      "metadata": {
        "id": "12618610"
      },
      "outputs": [],
      "source": [
        "s1 = {1,2,3,4}\n",
        "s2 = {2,3,5}"
      ]
    },
    {
      "cell_type": "code",
      "execution_count": null,
      "id": "1bee5b03",
      "metadata": {
        "id": "1bee5b03"
      },
      "outputs": [],
      "source": [
        "s1 & s2"
      ]
    },
    {
      "cell_type": "code",
      "execution_count": null,
      "id": "efe887a4",
      "metadata": {
        "id": "efe887a4"
      },
      "outputs": [],
      "source": [
        "s1.intersection(s2)"
      ]
    },
    {
      "cell_type": "code",
      "execution_count": null,
      "id": "749e9c0e",
      "metadata": {
        "id": "749e9c0e"
      },
      "outputs": [],
      "source": [
        "s1.union(s2)"
      ]
    },
    {
      "cell_type": "code",
      "execution_count": null,
      "id": "e6b7e4f2",
      "metadata": {
        "id": "e6b7e4f2"
      },
      "outputs": [],
      "source": [
        "s1 | s2"
      ]
    },
    {
      "cell_type": "code",
      "execution_count": null,
      "id": "30f8d5d2",
      "metadata": {
        "id": "30f8d5d2"
      },
      "outputs": [],
      "source": [
        "s3 = {'apple','pineapple','grapes'}"
      ]
    },
    {
      "cell_type": "code",
      "execution_count": null,
      "id": "b4e5e6f3",
      "metadata": {
        "id": "b4e5e6f3"
      },
      "outputs": [],
      "source": [
        "for x in s3:\n",
        "    print(x)"
      ]
    },
    {
      "cell_type": "code",
      "execution_count": null,
      "id": "73eae4fe",
      "metadata": {
        "id": "73eae4fe"
      },
      "outputs": [],
      "source": []
    }
  ],
  "metadata": {
    "kernelspec": {
      "display_name": "Python 3",
      "language": "python",
      "name": "python3"
    },
    "language_info": {
      "codemirror_mode": {
        "name": "ipython",
        "version": 3
      },
      "file_extension": ".py",
      "mimetype": "text/x-python",
      "name": "python",
      "nbconvert_exporter": "python",
      "pygments_lexer": "ipython3",
      "version": "3.8.8"
    },
    "colab": {
      "provenance": [],
      "include_colab_link": true
    }
  },
  "nbformat": 4,
  "nbformat_minor": 5
}